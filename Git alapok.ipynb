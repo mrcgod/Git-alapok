{
 "metadata": {
  "name": "",
  "signature": "sha256:32e86a72f2ffdcd6086027f69f97cabbb02e3846c01f7cc40747ff69d251331d"
 },
 "nbformat": 3,
 "nbformat_minor": 0,
 "worksheets": [
  {
   "cells": [
    {
     "cell_type": "markdown",
     "metadata": {},
     "source": [
      "# Git alapok \n",
      "El\u0151sz\u00f6r bekapcsoljuk a linuxunkat \u00e9s elindt\u00edtunk egy terminalt !\n",
      "Megadjuk el\u0151sz\u00f6r, hogy kik vagyunk :\n",
      "\n",
      "**git config --global user.name \"Saj\u00e1t N\u00e9v\"**\n",
      "\n",
      "**git config --global user.email \"Email c\u00edm\"**"
     ]
    },
    {
     "cell_type": "code",
     "collapsed": false,
     "input": [
      "!git config --global user.name \"Saj\u00e1t N\u00e9v\"\n",
      "!git config --global user.email \"Email c\u00edm\""
     ],
     "language": "python",
     "metadata": {},
     "outputs": []
    },
    {
     "cell_type": "markdown",
     "metadata": {},
     "source": [
      "Ezut\u00e1n csin\u00e1lunk egy adatb\u00e1zist , mi d\u00f6ntj\u00fck el hogy melyik k\u00f6nyvt\u00e1rba szeretn\u00e9nk :\n",
      "\n",
      "**git init**"
     ]
    },
    {
     "cell_type": "code",
     "collapsed": false,
     "input": [
      "!git init"
     ],
     "language": "python",
     "metadata": {},
     "outputs": []
    },
    {
     "cell_type": "markdown",
     "metadata": {},
     "source": [
      "Na m\u00e1r k\u00e9sz is van az adatb\u00e1zisunk .git/ n\u00e9ven !\n",
      "De ha szerezni akarunk egy adatb\u00e1zist azt is egyszer\u0171en tudjuk v\u00e9ghez vinni:\n",
      "\n",
      "**git clone felh@random.szerver.hu:valami** \n",
      "\n"
     ]
    },
    {
     "cell_type": "code",
     "collapsed": false,
     "input": [
      "!git clone felh@random.szerver.hu:valami "
     ],
     "language": "python",
     "metadata": {},
     "outputs": []
    },
    {
     "cell_type": "markdown",
     "metadata": {},
     "source": [
      "Ez l\u00e9trehozza a valami nev\u0171 k\u00f6nyvt\u00e1rat , adatb\u00e1zissal, f\u00e1jlokkal mindennel egy\u00fctt .\n",
      "Itt tudok ugyan\u00fagy l\u00e9trehozni , t\u00f6r\u00f6lni f\u00e1jlokat , ett\u0151l m\u00e9g nem v\u00e1ltozik a git adatb\u00e1zisa.\n",
      "Ehhez ki kell jel\u00f6ln\u00fcnk melyik f\u00e1jlokkal akarunk foglalkozni:\n",
      "\n",
      "**git add f\u00e1jl0 f\u00e1jl2** vagy csak sim\u00e1n **git add .**"
     ]
    },
    {
     "cell_type": "code",
     "collapsed": false,
     "input": [
      "!git add fajl0 fajl2"
     ],
     "language": "python",
     "metadata": {},
     "outputs": []
    },
    {
     "cell_type": "code",
     "collapsed": false,
     "input": [
      "!git add ."
     ],
     "language": "python",
     "metadata": {},
     "outputs": []
    },
    {
     "cell_type": "markdown",
     "metadata": {},
     "source": [
      "Ezut\u00e1n megadjuk hogy:\n",
      "\n",
      "**git commit**"
     ]
    },
    {
     "cell_type": "code",
     "collapsed": false,
     "input": [
      "!git commit"
     ],
     "language": "python",
     "metadata": {},
     "outputs": []
    },
    {
     "cell_type": "markdown",
     "metadata": {},
     "source": [
      "Ut\u00e1na megnyitunk egy editort ahova le\u00edrjuk , hogy mivel dolgozunk (\u00e9kezet n\u00e9lk\u00fcl lehet\u0151leg , mert a git nem nagyon szereti):\n",
      "\n",
      "**git config --global core.editor emacs**"
     ]
    },
    {
     "cell_type": "code",
     "collapsed": false,
     "input": [
      "!git config --global core.editor emacs"
     ],
     "language": "python",
     "metadata": {},
     "outputs": []
    },
    {
     "cell_type": "markdown",
     "metadata": {},
     "source": [
      "Ha k\u00e9sz, akkor az editor bez\u00e1r\u00e1sa ut\u00e1n a v\u00e1ltoz\u00e1s el lett mentve a Git adatb\u00e1zis\u00e1ba.\n",
      "A k\u00f6vetkez\u0151 ,hogy ezt felt\u00f6ltj\u00fck a *szerverre* :\n",
      "\n",
      "**git push**"
     ]
    },
    {
     "cell_type": "code",
     "collapsed": false,
     "input": [
      "!git push <name>\n"
     ],
     "language": "python",
     "metadata": {},
     "outputs": []
    },
    {
     "cell_type": "markdown",
     "metadata": {},
     "source": [
      "Ha ez egy \u00fajonnan l\u00e9trehozott dolog \u00e9s nem akarjuk emailen kereszt\u00fcl atk\u00fcldeni a f\u00e1jlokat el\u00e9g az *origin* parancs :\n",
      "\n",
      "**git push origin master**    "
     ]
    },
    {
     "cell_type": "code",
     "collapsed": false,
     "input": [
      "!git push origin master"
     ],
     "language": "python",
     "metadata": {},
     "outputs": []
    },
    {
     "cell_type": "markdown",
     "metadata": {},
     "source": [
      "Ez azt k\u00e9ri, hogy t\u00f6ltse fel az *origin* nev\u0171 k\u00f6zponti helyre , a *master*-t meg mindenk\u00e9ppen ki kell adni , mert egyenl\u0151re csak \u0151 az egyetlen l\u00e9tez\u0151 \u00e1ga az adatb\u00e1zisnak .\n",
      "Ha ezzel dolgozni szeretn\u00e9nk akkor kiadjuk ezt a parancsot :\n",
      "\n",
      "**git pull origin master**"
     ]
    },
    {
     "cell_type": "code",
     "collapsed": false,
     "input": [
      "!git pull origin master"
     ],
     "language": "python",
     "metadata": {},
     "outputs": []
    },
    {
     "cell_type": "markdown",
     "metadata": {},
     "source": [
      "Az origin r\u00f6vid\u00edt\u00e9s\u0171 k\u00f6zponti adatb\u00e1zis master \u00e1g\u00e1val (egyel\u0151re ez az egyetlen) friss\u00edti a saj\u00e1t k\u00f6nyvt\u00e1runkat (ha kell).\n",
      "\n",
      "Ha sokan piszk\u00e1lt\u00e1k egyszerre a proba k\u00f6nyvt\u00e1rat \u00e9s fel-le t\u00f6lt\u00f6gettek a k\u00f6zponti adatb\u00e1zisba, a Git legt\u00f6bbsz\u00f6r olyankor is tudja friss\u00edteni a saj\u00e1t k\u00f6nyvt\u00e1runkat (pull) vagy a k\u00f6zponti k\u00f6nyvt\u00e1rat (push), kital\u00e1lja hogyan egyes\u00edtse a v\u00e1ltoz\u00e1sokat.\n",
      "Ha a *pull* parancsot nem szeretn\u00e9d akkor \u00e9rdemes ezt kiadni:\n",
      "\n",
      "**git fetch**\n",
      "\n",
      "**git diff master..origin/master**"
     ]
    },
    {
     "cell_type": "code",
     "collapsed": false,
     "input": [
      "! git fetch\n",
      "! git diff master..origin/master"
     ],
     "language": "python",
     "metadata": {},
     "outputs": []
    },
    {
     "cell_type": "markdown",
     "metadata": {},
     "source": [
      "Ez nem \u00edr \u00e1t semmit , de megmutatja mi a k\u00fcl\u00f6nbs\u00e9g a *saj\u00e1t* \u00e9s *szerver* verzi\u00f3ja k\u00f6z\u00f6tt. Ha a helyzet j\u00f3:\n",
      "\n",
      "**git merge master origin/master**"
     ]
    },
    {
     "cell_type": "code",
     "collapsed": false,
     "input": [
      "!git merge master origin/master "
     ],
     "language": "python",
     "metadata": {},
     "outputs": []
    },
    {
     "cell_type": "markdown",
     "metadata": {},
     "source": [
      "ez \u00e1tvezeti a v\u00e1ltoz\u00e1sokat, ha v\u00e9letlen nem \u00e1tl\u00e1that\u00f3 a dolog ezek a parancsok seg\u00edtenek nek\u00fcnk :\n",
      "\n",
      "**git status**\n",
      "\n",
      "**git diff** : ez a v\u00e1ltoz\u00e1sok \u00edrja ki.\n",
      "\n",
      "**git diff --cached ** : commitokat mutatja meg"
     ]
    },
    {
     "cell_type": "code",
     "collapsed": false,
     "input": [
      "!git status"
     ],
     "language": "python",
     "metadata": {},
     "outputs": []
    },
    {
     "cell_type": "code",
     "collapsed": false,
     "input": [
      "!git diff"
     ],
     "language": "python",
     "metadata": {},
     "outputs": []
    },
    {
     "cell_type": "code",
     "collapsed": false,
     "input": [
      "!git diff --cached \n"
     ],
     "language": "python",
     "metadata": {},
     "outputs": []
    },
    {
     "cell_type": "markdown",
     "metadata": {},
     "source": [
      "**Most a legfontosabb k\u00f6vetkezik :**\n",
      "\n",
      "#Telep\u00edt\u00e9s"
     ]
    },
    {
     "cell_type": "markdown",
     "metadata": {},
     "source": [
      "*Ezeket javaslom :*\n",
      "\n",
      "**sudo apt-get install git-core**\n",
      "\n",
      "**sudo apt-get install gitk**\n",
      "\n",
      "**sudo apt-get install git-gui** "
     ]
    },
    {
     "cell_type": "code",
     "collapsed": false,
     "input": [
      "!sudo apt-get install git-core\n",
      "!sudo apt-get install gitk\n",
      "!sudo apt-get install git-gui "
     ],
     "language": "python",
     "metadata": {},
     "outputs": []
    },
    {
     "cell_type": "markdown",
     "metadata": {},
     "source": [
      "*Megnyit\u00e1suk egyszer\u0171 :*\n",
      " **git-core**\n",
      " \n",
      " **gitk**\n",
      " \n",
      " **git gui**"
     ]
    },
    {
     "cell_type": "code",
     "collapsed": false,
     "input": [
      "!git"
     ],
     "language": "python",
     "metadata": {},
     "outputs": []
    },
    {
     "cell_type": "code",
     "collapsed": false,
     "input": [
      "!gitk"
     ],
     "language": "python",
     "metadata": {},
     "outputs": []
    },
    {
     "cell_type": "code",
     "collapsed": false,
     "input": [
      "!git gui"
     ],
     "language": "python",
     "metadata": {},
     "outputs": []
    }
   ],
   "metadata": {}
  }
 ]
}